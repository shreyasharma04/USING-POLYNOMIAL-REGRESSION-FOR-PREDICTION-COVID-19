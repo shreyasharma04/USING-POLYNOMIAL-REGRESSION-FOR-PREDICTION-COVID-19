{
 "cells": [
  {
   "cell_type": "code",
   "execution_count": 1,
   "metadata": {},
   "outputs": [],
   "source": [
    "import pandas as pd\n",
    "import numpy as np\n",
    "import matplotlib.pyplot as plt\n",
    "from sklearn.preprocessing import PolynomialFeatures\n",
    "from sklearn import linear_model"
   ]
  },
  {
   "cell_type": "code",
   "execution_count": 2,
   "metadata": {},
   "outputs": [],
   "source": [
    "data = pd.read_csv(\"C:\\\\Users\\\\Shreya Sharma\\\\Downloads\\\\coronaCases.csv\",sep =',')\n"
   ]
  },
  {
   "cell_type": "code",
   "execution_count": 3,
   "metadata": {},
   "outputs": [
    {
     "name": "stdout",
     "output_type": "stream",
     "text": [
      "------------------------------\n",
      "HEAD\n",
      "------------------------------\n",
      "   id  cases\n",
      "0   1     27\n",
      "1   2     27\n",
      "2   3     27\n",
      "3   4     44\n",
      "4   5     44\n"
     ]
    }
   ],
   "source": [
    "data = data[['id','cases']]\n",
    "print('-'*30);print('HEAD');print('-'*30)\n",
    "print(data.head())"
   ]
  },
  {
   "cell_type": "code",
   "execution_count": 4,
   "metadata": {},
   "outputs": [
    {
     "name": "stdout",
     "output_type": "stream",
     "text": [
      "------------------------------\n",
      "PREPARE DATA\n",
      "------------------------------\n"
     ]
    },
    {
     "data": {
      "image/png": "[encoded data removed]",
      "text/plain": [
       "<Figure size 432x288 with 1 Axes>"
      ]
     },
     "metadata": {
      "needs_background": "light"
     },
     "output_type": "display_data"
    }
   ],
   "source": [
    "print('-'*30);print('PREPARE DATA');print('-'*30)\n",
    "x = np.array(data['id']).reshape(-1, 1)\n",
    "y = np.array(data['cases']).reshape(-1, 1)\n",
    "plt.plot(y,'-m')\n",
    "#plt.show()\n",
    "polyFeat = PolynomialFeatures(degree=3)\n",
    "x = polyFeat.fit_transform(x)\n",
    "#print(x)"
   ]
  },
  {
   "cell_type": "code",
   "execution_count": 5,
   "metadata": {},
   "outputs": [
    {
     "name": "stdout",
     "output_type": "stream",
     "text": [
      "------------------------------\n",
      "TRAINING DATA\n",
      "------------------------------\n",
      "Accuracy:99.918 %\n"
     ]
    }
   ],
   "source": [
    "print('-'*30);print('TRAINING DATA');print('-'*30)\n",
    "model = linear_model.LinearRegression()\n",
    "model.fit(x,y)\n",
    "accuracy = model.score(x,y)\n",
    "print(f'Accuracy:{round(accuracy*100,3)} %')\n",
    "y0 = model.predict(x)"
   ]
  },
  {
   "cell_type": "code",
   "execution_count": 6,
   "metadata": {},
   "outputs": [
    {
     "name": "stdout",
     "output_type": "stream",
     "text": [
      "------------------------------\n",
      "PREDICTION\n",
      "------------------------------\n",
      "Prediction - Cases after 15 days:27.21 Million\n"
     ]
    }
   ],
   "source": [
    "days = 15\n",
    "print('-'*30);print('PREDICTION');print('-'*30)\n",
    "print(f'Prediction - Cases after {days} days:',end='')\n",
    "print(round(int(model.predict(polyFeat.fit_transform([[234+days]])))/1000000,2),'Million')"
   ]
  },
  {
   "cell_type": "code",
   "execution_count": 7,
   "metadata": {},
   "outputs": [
    {
     "data": {
      "image/png": "[encoded data removed]",
      "text/plain": [
       "<Figure size 432x288 with 1 Axes>"
      ]
     },
     "metadata": {
      "needs_background": "light"
     },
     "output_type": "display_data"
    }
   ],
   "source": [
    "x1 = np.array(list(range(1,234+days))).reshape(-1,1)\n",
    "y1 = model.predict(polyFeat.fit_transform(x1))\n",
    "plt.plot(y1,'--r')\n",
    "plt.plot(y0,'--b')\n",
    "plt.show()"
   ]
  },
  {
   "cell_type": "code",
   "execution_count": null,
   "metadata": {},
   "outputs": [],
   "source": []
  }
 ],
 "metadata": {
  "kernelspec": {
   "display_name": "Python 3",
   "language": "python",
   "name": "python3"
  },
  "language_info": {
   "codemirror_mode": {
    "name": "ipython",
    "version": 3
   },
   "file_extension": ".py",
   "mimetype": "text/x-python",
   "name": "python",
   "nbconvert_exporter": "python",
   "pygments_lexer": "ipython3",
   "version": "3.7.3"
  }
 },
 "nbformat": 4,
 "nbformat_minor": 2
}
